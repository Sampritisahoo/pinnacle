{
  "nbformat": 4,
  "nbformat_minor": 0,
  "metadata": {
    "colab": {
      "provenance": []
    },
    "kernelspec": {
      "name": "python3",
      "display_name": "Python 3"
    },
    "language_info": {
      "name": "python"
    }
  },
  "cells": [
    {
      "cell_type": "code",
      "source": [
        "pip install schedule\n"
      ],
      "metadata": {
        "colab": {
          "base_uri": "https://localhost:8080/"
        },
        "id": "ajoY_JGbiQZX",
        "outputId": "a9550ccb-1fe9-4826-cb9a-146bd2aab840"
      },
      "execution_count": 2,
      "outputs": [
        {
          "output_type": "stream",
          "name": "stdout",
          "text": [
            "Collecting schedule\n",
            "  Downloading schedule-1.2.2-py3-none-any.whl.metadata (3.8 kB)\n",
            "Downloading schedule-1.2.2-py3-none-any.whl (12 kB)\n",
            "Installing collected packages: schedule\n",
            "Successfully installed schedule-1.2.2\n"
          ]
        }
      ]
    },
    {
      "cell_type": "code",
      "source": [
        "\n",
        "\n",
        "import calendar\n",
        "import datetime\n",
        "import json\n",
        "import schedule\n",
        "import time\n",
        "\n",
        "# File to store reminders\n",
        "REMINDERS_FILE = 'reminders.json'\n",
        "\n",
        "def load_reminders():\n",
        "    try:\n",
        "        with open(REMINDERS_FILE, 'r') as file:\n",
        "            return json.load(file)\n",
        "    except FileNotFoundError:\n",
        "        return {}\n",
        "\n",
        "def save_reminders(reminders):\n",
        "    with open(REMINDERS_FILE, 'w') as file:\n",
        "        json.dump(reminders, file, indent=4)\n",
        "\n",
        "def display_calendar(year, month):\n",
        "    print(calendar.month(year, month))\n",
        "\n",
        "def add_event(year, month, day, event):\n",
        "    reminders = load_reminders()\n",
        "    date_str = f\"{year}-{month:02d}-{day:02d}\"\n",
        "    if date_str not in reminders:\n",
        "        reminders[date_str] = []\n",
        "    reminders[date_str].append(event)\n",
        "    save_reminders(reminders)\n",
        "    print(f\"Event added on {date_str}: {event}\")\n",
        "\n",
        "def view_events(year, month):\n",
        "    reminders = load_reminders()\n",
        "    date_str = f\"{year}-{month:02d}\"\n",
        "    for date, events in reminders.items():\n",
        "        if date.startswith(date_str):\n",
        "            print(f\"{date}: {', '.join(events)}\")\n",
        "\n",
        "def check_reminders():\n",
        "    now = datetime.datetime.now()\n",
        "    date_str = now.strftime(\"%Y-%m-%d\")\n",
        "    reminders = load_reminders()\n",
        "    if date_str in reminders:\n",
        "        for event in reminders[date_str]:\n",
        "            print(f\"Reminder: {event}\")\n",
        "\n",
        "def main():\n",
        "    print(\"Welcome to the Calendar App!\")\n",
        "\n",
        "    while True:\n",
        "        print(\"\\n1. Display Calendar\")\n",
        "        print(\"2. Add Event\")\n",
        "        print(\"3. View Events\")\n",
        "        print(\"4. Exit\")\n",
        "        choice = input(\"Choose an option: \")\n",
        "\n",
        "        if choice == '1':\n",
        "            year = int(input(\"Enter year: \"))\n",
        "            month = int(input(\"Enter month: \"))\n",
        "            display_calendar(year, month)\n",
        "        elif choice == '2':\n",
        "            year = int(input(\"Enter year: \"))\n",
        "            month = int(input(\"Enter month: \"))\n",
        "            day = int(input(\"Enter day: \"))\n",
        "            event = input(\"Enter event: \")\n",
        "            add_event(year, month, day, event)\n",
        "        elif choice == '3':\n",
        "            year = int(input(\"Enter year: \"))\n",
        "            month = int(input(\"Enter month: \"))\n",
        "            view_events(year, month)\n",
        "        elif choice == '4':\n",
        "            print(\"Exiting...\")\n",
        "            break\n",
        "        else:\n",
        "            print(\"Invalid option. Please try again.\")\n",
        "\n",
        "if __name__ == \"__main__\":\n",
        "    # Schedule the reminder check every minute\n",
        "    schedule.every(1).minute.do(check_reminders)\n",
        "\n",
        "    # Run the main application\n",
        "    main()\n",
        "\n",
        "    # Keep the script running to check reminders\n",
        "    while True:\n",
        "        schedule.run_pending()\n",
        "        time.sleep(1)\n"
      ],
      "metadata": {
        "colab": {
          "base_uri": "https://localhost:8080/"
        },
        "id": "z06SjEZ0h4vK",
        "outputId": "6b0fe6eb-3571-4d38-dc8c-a925b4605645"
      },
      "execution_count": null,
      "outputs": [
        {
          "output_type": "stream",
          "name": "stdout",
          "text": [
            "Welcome to the Calendar App!\n",
            "\n",
            "1. Display Calendar\n",
            "2. Add Event\n",
            "3. View Events\n",
            "4. Exit\n",
            "Choose an option: 1\n",
            "Enter year: 2023\n",
            "Enter month: 7\n",
            "     July 2023\n",
            "Mo Tu We Th Fr Sa Su\n",
            "                1  2\n",
            " 3  4  5  6  7  8  9\n",
            "10 11 12 13 14 15 16\n",
            "17 18 19 20 21 22 23\n",
            "24 25 26 27 28 29 30\n",
            "31\n",
            "\n",
            "\n",
            "1. Display Calendar\n",
            "2. Add Event\n",
            "3. View Events\n",
            "4. Exit\n",
            "Choose an option: 1\n",
            "Enter year: 2000\n",
            "Enter month: 7\n",
            "     July 2000\n",
            "Mo Tu We Th Fr Sa Su\n",
            "                1  2\n",
            " 3  4  5  6  7  8  9\n",
            "10 11 12 13 14 15 16\n",
            "17 18 19 20 21 22 23\n",
            "24 25 26 27 28 29 30\n",
            "31\n",
            "\n",
            "\n",
            "1. Display Calendar\n",
            "2. Add Event\n",
            "3. View Events\n",
            "4. Exit\n"
          ]
        }
      ]
    }
  ]
}