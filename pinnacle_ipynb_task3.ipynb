{
  "nbformat": 4,
  "nbformat_minor": 0,
  "metadata": {
    "colab": {
      "provenance": []
    },
    "kernelspec": {
      "name": "python3",
      "display_name": "Python 3"
    },
    "language_info": {
      "name": "python"
    }
  },
  "cells": [
    {
      "cell_type": "code",
      "source": [
        "pip install playsound\n"
      ],
      "metadata": {
        "colab": {
          "base_uri": "https://localhost:8080/"
        },
        "id": "VGY-dgQYJj9V",
        "outputId": "1dba14c0-6d7e-418b-8f0c-e585ca82ebe2"
      },
      "execution_count": null,
      "outputs": [
        {
          "output_type": "stream",
          "name": "stdout",
          "text": [
            "Requirement already satisfied: playsound in /usr/local/lib/python3.10/dist-packages (1.3.0)\n"
          ]
        }
      ]
    },
    {
      "cell_type": "code",
      "source": [
        "import time\n",
        "from datetime import datetime\n",
        "from playsound import playsound\n",
        "\n",
        "def set_alarm(alarm_time):\n",
        "    print(f\"Alarm set for {alarm_time.strftime('%H:%M:%S')}\")\n",
        "\n",
        "    while True:\n",
        "        # Check current time\n",
        "        now = datetime.now()\n",
        "        current_time = now.strftime(\"%H:%M:%S\")\n",
        "\n",
        "        print(f\"Current Time: {current_time}\", end=\"\\r\")\n",
        "\n",
        "        # Compare current time with alarm time\n",
        "        if current_time == alarm_time.strftime(\"%H:%M:%S\"):\n",
        "            print(\"\\nTime to wake up!\")\n",
        "            playsound('path/to/your/soundfile.mp3')  # Change to your sound file path\n",
        "            break\n",
        "\n",
        "        # Sleep for a while before checking again\n",
        "        time.sleep(1)\n",
        "\n",
        "if __name__ == \"__main__\":\n",
        "    # Set the alarm time (24-hour format)\n",
        "    alarm_hour = int(input(\"Set alarm hour (0-23): \"))\n",
        "    alarm_minute = int(input(\"Set alarm minute (0-59): \"))\n",
        "\n",
        "    print(f\"Alarm set for {alarm_hour:02d}:{alarm_minute:02d}\")"
      ],
      "metadata": {
        "colab": {
          "base_uri": "https://localhost:8080/"
        },
        "id": "mKx2otxYK-tL",
        "outputId": "b75c3b75-6304-46be-cbf0-4fa5191c0d86"
      },
      "execution_count": null,
      "outputs": [
        {
          "output_type": "stream",
          "name": "stdout",
          "text": [
            "Set alarm hour (0-23): 2\n",
            "Set alarm minute (0-59): 12\n",
            "Alarm set for 02:12\n"
          ]
        }
      ]
    }
  ]
}